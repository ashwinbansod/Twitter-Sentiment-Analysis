{
 "cells": [
  {
   "cell_type": "markdown",
   "metadata": {},
   "source": [
    "# Twitter Sentiment Prediction"
   ]
  },
  {
   "cell_type": "markdown",
   "metadata": {},
   "source": [
    "###### Import required packages"
   ]
  },
  {
   "cell_type": "code",
   "execution_count": 38,
   "metadata": {
    "collapsed": false
   },
   "outputs": [
    {
     "name": "stderr",
     "output_type": "stream",
     "text": [
      "/home/ashwin/anaconda3/lib/python3.5/site-packages/matplotlib/font_manager.py:273: UserWarning: Matplotlib is building the font cache using fc-list. This may take a moment.\n",
      "  warnings.warn('Matplotlib is building the font cache using fc-list. This may take a moment.')\n",
      "/home/ashwin/anaconda3/lib/python3.5/site-packages/matplotlib/font_manager.py:273: UserWarning: Matplotlib is building the font cache using fc-list. This may take a moment.\n",
      "  warnings.warn('Matplotlib is building the font cache using fc-list. This may take a moment.')\n"
     ]
    }
   ],
   "source": [
    "import itertools\n",
    "import nltk\n",
    "from nltk.tokenize import word_tokenize\n",
    "from html import unescape\n",
    "from pyspark import SparkContext\n",
    "from pyspark.mllib.feature import *\n",
    "from pyspark.mllib.regression import LabeledPoint\n",
    "from pyspark.mllib.classification import NaiveBayes, NaiveBayesModel\n",
    "from pyspark.mllib.classification import LogisticRegressionWithLBFGS\n",
    "from pyspark.mllib.tree import DecisionTree, DecisionTreeModel\n",
    "from pyspark.mllib.evaluation import MulticlassMetrics\n",
    "from nltk.stem.porter import *\n",
    "import numpy as np\n",
    "import matplotlib\n",
    "import matplotlib.pyplot as plt"
   ]
  },
  {
   "cell_type": "markdown",
   "metadata": {},
   "source": [
    "Get spark context"
   ]
  },
  {
   "cell_type": "code",
   "execution_count": 3,
   "metadata": {
    "collapsed": false
   },
   "outputs": [],
   "source": [
    "# sc = SparkContext()"
   ]
  },
  {
   "cell_type": "markdown",
   "metadata": {},
   "source": [
    "Define imput files"
   ]
  },
  {
   "cell_type": "code",
   "execution_count": 4,
   "metadata": {
    "collapsed": false
   },
   "outputs": [],
   "source": [
    "training_file = 'data/train.csv'\n",
    "test_file = 'data/test.csv'"
   ]
  },
  {
   "cell_type": "markdown",
   "metadata": {},
   "source": [
    "### Data Cleaning "
   ]
  },
  {
   "cell_type": "markdown",
   "metadata": {
    "collapsed": true
   },
   "source": [
    "List of Stop words which will be excluded while formulating features"
   ]
  },
  {
   "cell_type": "code",
   "execution_count": 5,
   "metadata": {
    "collapsed": true
   },
   "outputs": [],
   "source": [
    "stopwordList = ['i', 'me', 'my', 'myself', 'we', 'our', 'ours', 'ourselves', 'you', 'your', 'yours', 'yourself', \n",
    "                'yourselves', 'he', 'him', 'his', 'himself', 'she', 'her', 'hers', 'herself', 'it', 'its', 'itself', \n",
    "                'they', 'them', 'their', 'theirs', 'themselves', 'what', 'which', 'who', 'whom', 'this', 'that', \n",
    "                'these', 'those', 'am', 'is', 'are', 'was', 'were', 'be', 'been', 'being', 'have', 'has', 'had', \n",
    "                'having', 'do', 'does', 'did', 'doing', 'a', 'an', 'the', 'and', 'but', 'if', 'or', 'because', 'as', \n",
    "                'until', 'while', 'of', 'at', 'by', 'for', 'with', 'about', 'against', 'between', 'into', 'through', \n",
    "                'during', 'before', 'after', 'above', 'below', 'to', 'from', 'up', 'down', 'in', 'out', 'on', 'off', \n",
    "                'over', 'under', 'again', 'further', 'then', 'once', 'here', 'there', 'when', 'where', 'why', 'how', \n",
    "                'all', 'any', 'both', 'each', 'few', 'more', 'most', 'other', 'some', 'such', 'no', 'nor', 'not', \n",
    "                'only', 'own', 'same', 'so', 'than', 'too', 'very', 's', 't', 'can', 'will', 'just', 'don', 'should', \n",
    "                'now' ]"
   ]
  },
  {
   "cell_type": "code",
   "execution_count": 6,
   "metadata": {
    "collapsed": false
   },
   "outputs": [],
   "source": [
    "APOSTROPHES = {\"'s\" : \" is\", \"'re\" : \" are\", \"'ll\" : \"will\", \"n't\" : \"not\"}"
   ]
  },
  {
   "cell_type": "markdown",
   "metadata": {},
   "source": [
    "Using Porter Stemer, get the root word of the input word"
   ]
  },
  {
   "cell_type": "code",
   "execution_count": 7,
   "metadata": {
    "collapsed": true
   },
   "outputs": [],
   "source": [
    "def getRootWord(word):\n",
    "    stem_porter = PorterStemmer()\n",
    "    return stem_porter.stem(word)"
   ]
  },
  {
   "cell_type": "markdown",
   "metadata": {
    "collapsed": true
   },
   "source": [
    "Clean Tweet Text function is used to clean the text using below mentioned methods:\n",
    "1. Lowercase all characters\n",
    "2. Stemming using Porter Stemmer\n",
    "3. Strip punctuations\n",
    "4. Replace two or more occurrences of the same character with two occurrences. i.e. ‘exciteddddd’ to ‘excitedd’\n",
    "5. Replace Hash tags, ex. #xyz with xyz\n",
    "6. Replace a word contains www. or http(s):// with URL \n",
    "7. Replace a word contains @someuser with AT_USER \n",
    "8. Ignore words that don’t start with an alphabet\n",
    "9. Ignore stop words\n",
    "10. Use html.unescape to replace html escape characters and replace with their meaning\n",
    "11. Replace aposthope characters apostrophes to standard lexicons"
   ]
  },
  {
   "cell_type": "code",
   "execution_count": 8,
   "metadata": {
    "collapsed": true
   },
   "outputs": [],
   "source": [
    "def cleanTweetText(original_tweet):\n",
    "    tweet_text = []\n",
    "    \n",
    "    # Remove html escape characters and replace with their meaning\n",
    "    tweet_html_str = unescape(original_tweet)\n",
    "\n",
    "    # Decode tweet to utf-8 format\n",
    "    tweet_decoded = tweet_html_str.encode(\"ascii\", \"ignore\").decode(\"utf8\")\n",
    "\n",
    "    tweet_clear = []\n",
    "    for word in tweet_decoded.split():\n",
    "        if word[0] == '@':\n",
    "            tweet_clear.append(\"AT_USER\")\n",
    "        elif word[0] == '#':\n",
    "            tweet_clear.append(str.lower(word[1:]))\n",
    "        elif word[0:7] == 'http://' or word[0:8] == 'https://' or word[0:4] == 'www.':\n",
    "            tweet_clear.append(\"URL\")\n",
    "        else:\n",
    "            tweet_clear.append(word)\n",
    "            \n",
    "    tweet_temp = ' '.join(tweet_clear)\n",
    "    \n",
    "    # Remove multiple repetition of a character in word\n",
    "    tweet_str = ''.join(''.join(s)[:2] for _, s in itertools.groupby(tweet_temp))\n",
    "\n",
    "    # Convert all the apostrophes to standard lexicons\n",
    "    words = []\n",
    "    tokens = word_tokenize(tweet_str)\n",
    "    words = [APOSTROPHES[word] if word in APOSTROPHES else word for word in tokens]\n",
    "\n",
    "    for word in words:\n",
    "        if str.lower(word) in stopwordList:\n",
    "            continue\n",
    "        elif str.isalpha(word):\n",
    "            root_word = getRootWord((str.lower(word)))\n",
    "            tweet_text.append(root_word)\n",
    "        else:\n",
    "            continue\n",
    "    \n",
    "    return tweet_text"
   ]
  },
  {
   "cell_type": "markdown",
   "metadata": {},
   "source": [
    "This function is used to generate the LabeledPoint opject for each tweet in file by extracting the tweet polarity and the tweet text and cleaning the tweet text."
   ]
  },
  {
   "cell_type": "code",
   "execution_count": 9,
   "metadata": {
    "collapsed": true
   },
   "outputs": [],
   "source": [
    "def getTweetText(record):\n",
    "    tweet_str = record.split(\",\",5)[-1].strip(\"\\n\" \" \" '\"')\n",
    "    tweet_text_cleaned = cleanTweetText(tweet_str)\n",
    "    return tweet_text_cleaned"
   ]
  },
  {
   "cell_type": "code",
   "execution_count": 64,
   "metadata": {
    "collapsed": true
   },
   "outputs": [],
   "source": [
    "def getTweetLabelPoint(record):\n",
    "    tweet_polarity = record.split(\",\", 1)[0].strip('\"')\n",
    "    tweet_str = record.split(\",\",5)[-1].strip(\"\\n\" \" \" '\"')\n",
    "    \n",
    "    hashingTF = HashingTF()\n",
    "    \n",
    "    tweet_text_vector = hashingTF.transform(cleanTweetText(tweet_str))\n",
    "\n",
    "    return LabeledPoint(float(tweet_polarity), tweet_text_vector)"
   ]
  },
  {
   "cell_type": "markdown",
   "metadata": {},
   "source": [
    "Function to compute accuracy i.e % of correct predictions over total predictions"
   ]
  },
  {
   "cell_type": "code",
   "execution_count": 11,
   "metadata": {
    "collapsed": false
   },
   "outputs": [],
   "source": [
    "def computeAccuracy(predictionAndLabel, total_count):\n",
    "    return 1.0 * predictionAndLabel.filter(lambda t: t[0] == t[1]).count() / total_count"
   ]
  },
  {
   "cell_type": "markdown",
   "metadata": {},
   "source": [
    "Calculate the Accuracy, precision and Recall"
   ]
  },
  {
   "cell_type": "code",
   "execution_count": 22,
   "metadata": {
    "collapsed": false
   },
   "outputs": [],
   "source": [
    "def calculatePrecisionRecall(predictionAndLabel):\n",
    "    tp = predictionAndLabel.filter(lambda t: t[0] == 1 and t[1] == 1).count()\n",
    "    tn = predictionAndLabel.filter(lambda t: t[0] == 0 and t[1] == 0).count()\n",
    "    fp = predictionAndLabel.filter(lambda t: t[0] == 1 and t[1] == 0).count()\n",
    "    fn = predictionAndLabel.filter(lambda t: t[0] == 0 and t[1] == 1).count()\n",
    "    \n",
    "    total_count = tp + tn + fp + fn\n",
    "    \n",
    "    accuracy = (tp + tn) / total_count\n",
    "#     print(\"Accuracy is : \" + str(accuracy))\n",
    "    \n",
    "    precision = tp / (tp + fp)\n",
    "#     print(\"Precision is : \" + str(precision))\n",
    "    \n",
    "    recall = tp / (tp + fn)\n",
    "#     print(\"Recall is : \" + str(recall))\n",
    "    \n",
    "    f1_score = (2 * precision * recall) / (precision + recall)\n",
    "#     print(\"F1 Score is : \" + str(f1_score))\n",
    "    \n",
    "    return (accuracy, precision, recall, f1_score)"
   ]
  },
  {
   "cell_type": "code",
   "execution_count": 17,
   "metadata": {
    "collapsed": true
   },
   "outputs": [],
   "source": [
    "def calculateTrueAndFalsePositiveRate(predictionAndLabel):\n",
    "    tp = predictionAndLabel.filter(lambda t: t[0] == 1 and t[1] == 1).count()\n",
    "    tn = predictionAndLabel.filter(lambda t: t[0] == 0 and t[1] == 0).count()\n",
    "    fp = predictionAndLabel.filter(lambda t: t[0] == 1 and t[1] == 0).count()\n",
    "    fn = predictionAndLabel.filter(lambda t: t[0] == 0 and t[1] == 1).count()\n",
    "    \n",
    "    true_positive_rate = (tp) / (tp + fn)\n",
    "#     print(\"True Positive rate is : \" + str(true_positive_rate))\n",
    "    \n",
    "    false_positive_rate = fp / (fp + tn)\n",
    "#     print(\"False Positive rate is : \" + str(false_positive_rate))\n",
    "    \n",
    "    return (false_positive_rate, true_positive_rate)"
   ]
  },
  {
   "cell_type": "markdown",
   "metadata": {},
   "source": [
    "Generate RDD for Train file and Test file after cleaning data"
   ]
  },
  {
   "cell_type": "code",
   "execution_count": 65,
   "metadata": {
    "collapsed": false
   },
   "outputs": [],
   "source": [
    "train_file = sc.textFile(training_file)\n",
    "\n",
    "text_docs = train_file.map(getTweetText)\n",
    "polarity_docs = train_file.map(lambda line: line.split(\",\", 1)[0].strip('\"'))\n",
    "\n",
    "hashingTF = HashingTF()\n",
    "    \n",
    "tweet_text_vector = hashingTF.transform(text_docs)\n",
    "tweet_text_vector.cache()\n",
    "\n",
    "model = IDF().fit(tweet_text_vector)\n",
    "train_tweet_text_tfidf = model.transform(tweet_text_vector)\n",
    "\n",
    "train_doc_zip_rdd = polarity_docs.zip(train_tweet_text_tfidf)\n",
    "train_docs = train_doc_zip_rdd.map(lambda rec: LabeledPoint(float(rec[0]), rec[1]))"
   ]
  },
  {
   "cell_type": "code",
   "execution_count": 66,
   "metadata": {
    "collapsed": false
   },
   "outputs": [],
   "source": [
    "test_docs = sc.textFile(test_file).map(getTweetLabelPoint)"
   ]
  },
  {
   "cell_type": "markdown",
   "metadata": {},
   "source": [
    "###### Randamize split of Train data"
   ]
  },
  {
   "cell_type": "code",
   "execution_count": 21,
   "metadata": {
    "collapsed": false
   },
   "outputs": [
    {
     "name": "stdout",
     "output_type": "stream",
     "text": [
      "Accuracy is : 0.7161150839846998\n",
      "Precision is : 0.7286212914485166\n",
      "Recall is : 0.6919124958568114\n",
      "F1 Score is : 0.7097925875552533\n",
      "0.7161150839846998\n"
     ]
    }
   ],
   "source": [
    "# Split data aproximately into training (60%) and test (40%)\n",
    "training, test = train_docs.randomSplit([0.85, 0.15], seed=0)\n",
    "\n",
    "modelNB = NaiveBayes.train(training, 1.0)\n",
    "\n",
    "# Make prediction and test accuracy.\n",
    "predictionAndLabelNB = test.map(lambda p: (modelNB.predict(p.features), p.label))\n",
    "\n",
    "accuracy,presion,recall,f1score = calculatePrecisionRecall(predictionAndLabelNB) \n",
    "\n",
    "print(accuracy)"
   ]
  },
  {
   "cell_type": "markdown",
   "metadata": {},
   "source": [
    "###### Train on full train data"
   ]
  },
  {
   "cell_type": "code",
   "execution_count": 16,
   "metadata": {
    "collapsed": false
   },
   "outputs": [],
   "source": [
    "# Train documents\n",
    "model = NaiveBayes.train(train_docs, 1.0)"
   ]
  },
  {
   "cell_type": "markdown",
   "metadata": {},
   "source": [
    "###### Make Predictions on full test data"
   ]
  },
  {
   "cell_type": "code",
   "execution_count": 113,
   "metadata": {
    "collapsed": false
   },
   "outputs": [
    {
     "name": "stdout",
     "output_type": "stream",
     "text": [
      "Accuracy is : 0.7604456824512534\n",
      "Precision is : 0.7823529411764706\n",
      "Recall is : 0.7307692307692307\n",
      "F1 Score is : 0.7556818181818181\n"
     ]
    }
   ],
   "source": [
    "# Make prediction and test accuracy.\n",
    "predictionAndLabelOnTestNB = test_docs.map(lambda p: (model.predict(p.features), p.label))\n",
    "\n",
    "accuracy,presion,recall,f1score  = calculatePrecisionRecall(predictionAndLabelOnTestNB) \n",
    "\n",
    "print(accuracy)"
   ]
  },
  {
   "cell_type": "markdown",
   "metadata": {},
   "source": [
    "###### Make Predictions on full train data"
   ]
  },
  {
   "cell_type": "code",
   "execution_count": 94,
   "metadata": {
    "collapsed": false
   },
   "outputs": [
    {
     "name": "stdout",
     "output_type": "stream",
     "text": [
      "Accuracy is : 0.857225\n",
      "Precision is : 0.8692438885730529\n",
      "Recall is : 0.84095\n",
      "F1 Score is : 0.8548628935932299\n"
     ]
    }
   ],
   "source": [
    "# Make prediction and test accuracy.\n",
    "predictionAndLabelOnTrain = train_docs.map(lambda p: (model.predict(p.features), p.label))\n",
    "\n",
    "accuracy,presion,recall,f1score = calculatePrecisionRecall(predictionAndLabelOnTrain) \n",
    "\n",
    "print(accuracy)"
   ]
  },
  {
   "cell_type": "markdown",
   "metadata": {},
   "source": [
    "## K-Fold algorithm for naive bayes"
   ]
  },
  {
   "cell_type": "code",
   "execution_count": 30,
   "metadata": {
    "collapsed": true
   },
   "outputs": [],
   "source": [
    "train_file_dict = []\n",
    "\n",
    "train_file_dict = train_docs.randomSplit([0.1, 0.1,0.1,0.1,0.1,0.1,0.1,0.1,0.1,0.1], seed=0)"
   ]
  },
  {
   "cell_type": "code",
   "execution_count": 50,
   "metadata": {
    "collapsed": false
   },
   "outputs": [
    {
     "name": "stdout",
     "output_type": "stream",
     "text": [
      "K-fold Values:\n",
      "Avg k-fold accuracy :0.7150153465842254\n",
      "Avg k-fold precision :0.7264455459251299\n",
      "Avg k-fold recall :0.6899021757401264\n",
      "Avg k-fold F1score :0.7076388577515431\n",
      "\n",
      "Test Values:\n",
      "Avg test accuracy :0.7562674094707521\n",
      "Avg test precision :0.7755672890929253\n",
      "Avg test recall :0.7307692307692308\n",
      "Avg test F1score :0.7524078098483808\n",
      "\n",
      "K-fold Train, Test-doc Test Values:\n",
      "Avg Train accuracy :0.8323572433422919\n",
      "Avg Train precision :0.8481331204385972\n",
      "Avg Train recall :0.8097247384639162\n",
      "Avg Train F1score :0.8284709862802426\n"
     ]
    }
   ],
   "source": [
    "kfold = 10\n",
    "accuracy_NB = []\n",
    "accuracy_test_NB = []\n",
    "accuracy_train_NB = []\n",
    "\n",
    "total_accuracy_NB = 0\n",
    "total_precision_NB = 0 \n",
    "total_recall_NB = 0\n",
    "total_f1score_NB = 0\n",
    "\n",
    "total_accuracy_test_NB = 0\n",
    "total_precision_test_NB = 0 \n",
    "total_recall_test_NB = 0 \n",
    "total_f1score_test_NB = 0\n",
    "\n",
    "total_accuracy_train_NB = 0\n",
    "total_precision_train_NB = 0 \n",
    "total_recall_train_NB = 0 \n",
    "total_f1score_train_NB = 0\n",
    "\n",
    "avg_accuracy_NB = 0\n",
    "avg_precision_NB = 0 \n",
    "avg_recall_NB = 0\n",
    "avg_f1score_NB = 0\n",
    "\n",
    "avg_accuracy_test_NB = 0\n",
    "avg_precision_test_NB = 0 \n",
    "avg_recall_test_NB = 0 \n",
    "avg_f1score_test_NB = 0\n",
    "\n",
    "avg_accuracy_train_NB = 0\n",
    "avg_precision_train_NB = 0 \n",
    "avg_recall_train_NB = 0 \n",
    "avg_f1score_train_NB = 0\n",
    "\n",
    "\n",
    "for i in range(0, kfold):\n",
    "    test_data = sc.parallelize([])\n",
    "    test_data = train_file_dict[i]\n",
    "    train_data_flag = False\n",
    "    train_data = sc.parallelize([])\n",
    "    for j in range(0, kfold):\n",
    "        if i != j:\n",
    "            if train_data_flag == False:\n",
    "                train_data = train_file_dict[j]\n",
    "                train_data_flag = True\n",
    "            else:\n",
    "                train_data = train_data.union(train_file_dict[j])\n",
    "        else:\n",
    "            continue\n",
    "    \n",
    "    # Train documents\n",
    "    model = NaiveBayes.train(train_data, 1.0)\n",
    "\n",
    "    # Test Part of train data\n",
    "    # Make prediction and test accuracy.\n",
    "    predictionAndLabel = test_data.map(lambda p: (model.predict(p.features), p.label))\n",
    "    \n",
    "    accuracy,precision,recall,f1score = calculatePrecisionRecall(predictionAndLabel) \n",
    "    accuracy_NB.append(accuracy)\n",
    "#     print(str(i) + \" : \" + str(accuracy))\n",
    "    total_accuracy_NB += accuracy\n",
    "    total_precision_NB += precision\n",
    "    total_recall_NB += recall\n",
    "    total_f1score_NB += f1score\n",
    "    \n",
    "    # Test Docs prediction\n",
    "    # Make prediction and test accuracy.\n",
    "    predictionAndLabel = test_docs.map(lambda p: (model.predict(p.features), p.label))\n",
    "    \n",
    "    accuracy,precision,recall,f1score = calculatePrecisionRecall(predictionAndLabel) \n",
    "    accuracy_test_NB.append(accuracy)\n",
    "#     print(str(i) + \" : \" + str(accuracy))\n",
    "    total_accuracy_test_NB += accuracy\n",
    "    total_precision_test_NB += precision\n",
    "    total_recall_test_NB += recall\n",
    "    total_f1score_test_NB += f1score\n",
    "    \n",
    "    # Train Part of train data\n",
    "    # Make prediction and test accuracy.\n",
    "    predictionAndLabel = train_data.map(lambda p: (model.predict(p.features), p.label))\n",
    "    \n",
    "    accuracy,precision,recall,f1score = calculatePrecisionRecall(predictionAndLabel) \n",
    "    \n",
    "    accuracy_train_NB.append(accuracy)\n",
    "#     print(str(i) + \" : \" + str(accuracy))\n",
    "    total_accuracy_train_NB += accuracy\n",
    "    total_precision_train_NB += precision\n",
    "    total_recall_train_NB += recall\n",
    "    total_f1score_train_NB += f1score\n",
    "\n",
    "    \n",
    "avg_accuracy_NB = float(total_accuracy_NB/kfold)\n",
    "avg_precision_NB = float(total_precision_NB/kfold)\n",
    "avg_recall_NB = float(total_recall_NB/kfold)\n",
    "avg_f1score_NB = float(total_f1score_NB/kfold)\n",
    "\n",
    "avg_accuracy_test_NB = float(total_accuracy_test_NB/kfold)\n",
    "avg_precision_test_NB = float(total_precision_test_NB/kfold)\n",
    "avg_recall_test_NB = float(total_recall_test_NB/kfold)\n",
    "avg_f1score_test_NB = float(total_f1score_test_NB/kfold)\n",
    "\n",
    "avg_accuracy_train_NB = float(total_accuracy_train_NB/kfold)\n",
    "avg_precision_train_NB = float(total_precision_train_NB/kfold)\n",
    "avg_recall_train_NB = float(total_recall_train_NB/kfold)\n",
    "avg_f1score_train_NB = float(total_f1score_train_NB/kfold)\n",
    "\n",
    "\n",
    "print(\"K-fold Values:\")\n",
    "print(\"Avg k-fold accuracy :\" + str(avg_accuracy_NB))\n",
    "print(\"Avg k-fold precision :\" + str(avg_precision_NB))\n",
    "print(\"Avg k-fold recall :\" + str(avg_recall_NB))\n",
    "print(\"Avg k-fold F1score :\" + str(avg_f1score_NB))\n",
    "\n",
    "print(\"\\nTest Values:\")\n",
    "print(\"Avg test accuracy :\" + str(avg_accuracy_test_NB))\n",
    "print(\"Avg test precision :\" + str(avg_precision_test_NB))\n",
    "print(\"Avg test recall :\" + str(avg_recall_test_NB))\n",
    "print(\"Avg test F1score :\" + str(avg_f1score_test_NB))\n",
    "\n",
    "print(\"\\nK-fold Train, Test-doc Test Values:\")\n",
    "print(\"Avg Train accuracy :\" + str(avg_accuracy_train_NB))\n",
    "print(\"Avg Train precision :\" + str(avg_precision_train_NB))\n",
    "print(\"Avg Train recall :\" + str(avg_recall_train_NB))\n",
    "print(\"Avg Train F1score :\" + str(avg_f1score_train_NB))"
   ]
  },
  {
   "cell_type": "markdown",
   "metadata": {},
   "source": [
    "# Logistic Regression"
   ]
  },
  {
   "cell_type": "markdown",
   "metadata": {},
   "source": [
    "###### Randamize split of Train data"
   ]
  },
  {
   "cell_type": "code",
   "execution_count": 95,
   "metadata": {
    "collapsed": false
   },
   "outputs": [
    {
     "name": "stdout",
     "output_type": "stream",
     "text": [
      "Accuracy is : 0.7329951771162482\n",
      "Precision is : 0.73127969850893\n",
      "Recall is : 0.7396420285051376\n",
      "F1 Score is : 0.735437093186125\n"
     ]
    }
   ],
   "source": [
    "# Split data aproximately into training (60%) and test (40%)\n",
    "trainingLR, testLR = train_docs.randomSplit([0.85, 0.15], seed=0)\n",
    "\n",
    "modelLR = LogisticRegressionWithLBFGS.train(trainingLR,iterations=150, regType='l2')\n",
    "\n",
    "# Make prediction and test accuracy.\n",
    "predictionAndLabelLR = testLR.map(lambda p: (modelLR.predict(p.features), p.label))\n",
    "\n",
    "accuracy = calculatePrecisionRecall(predictionAndLabelLR) \n"
   ]
  },
  {
   "cell_type": "markdown",
   "metadata": {},
   "source": [
    "###### Train on full train data"
   ]
  },
  {
   "cell_type": "code",
   "execution_count": 67,
   "metadata": {
    "collapsed": false
   },
   "outputs": [],
   "source": [
    "# Train documents\n",
    "modelLR = LogisticRegressionWithLBFGS.train(train_docs,iterations=150, regType='l2')"
   ]
  },
  {
   "cell_type": "markdown",
   "metadata": {},
   "source": [
    "###### Make Predictions on full test data"
   ]
  },
  {
   "cell_type": "code",
   "execution_count": 68,
   "metadata": {
    "collapsed": false
   },
   "outputs": [],
   "source": [
    "# Make prediction and test accuracy.\n",
    "predictionAndLabelOnTestLR = test_docs.map(lambda p: (modelLR.predict(p.features), p.label))\n",
    "\n",
    "accuracy = calculatePrecisionRecall(predictionAndLabelOnTestLR) "
   ]
  },
  {
   "cell_type": "markdown",
   "metadata": {},
   "source": [
    "###### Make Predictions on full train data"
   ]
  },
  {
   "cell_type": "code",
   "execution_count": 74,
   "metadata": {
    "collapsed": false
   },
   "outputs": [
    {
     "name": "stdout",
     "output_type": "stream",
     "text": [
      "0.9233125\n"
     ]
    }
   ],
   "source": [
    "# Make prediction on full training data\n",
    "predictionAndLabelOnTrainLR = train_docs.map(lambda p: (modelLR.predict(p.features), p.label))\n",
    "\n",
    "accuracy = calculatePrecisionRecall(predictionAndLabelOnTrainLR) "
   ]
  },
  {
   "cell_type": "markdown",
   "metadata": {},
   "source": [
    "## K-Fold algorithm for Logistic Regression"
   ]
  },
  {
   "cell_type": "code",
   "execution_count": 32,
   "metadata": {
    "collapsed": false
   },
   "outputs": [
    {
     "name": "stdout",
     "output_type": "stream",
     "text": [
      "K-fold Train-Test Values:\n",
      "Avg k-fold accuracy :0.7222826957918002\n",
      "Avg k-fold precision :0.7251359405523898\n",
      "Avg k-fold recall :0.715983083770586\n",
      "Avg k-fold F1score :0.7204995495662077\n",
      "K-fold Train, Test-doc Test Values:\n",
      "Avg test accuracy :0.7498607242339832\n",
      "Avg test precision :0.7294323363688702\n",
      "Avg test recall :0.8060439560439561\n",
      "Avg test F1score :0.7656818012956886\n",
      "K-fold Train, Test-doc Test Values:\n",
      "Avg Train accuracy :0.8702240056405414\n",
      "Avg Train precision :0.8733321225759354\n",
      "Avg Train recall :0.8660613769317773\n",
      "Avg Train F1score :0.869681398093816\n"
     ]
    }
   ],
   "source": [
    "kfold = 10\n",
    "accuracy_LR = []\n",
    "accuracy_test_LR = []\n",
    "accuracy_train_LR = []\n",
    "\n",
    "total_accuracy_LR = 0\n",
    "total_precision_LR = 0 \n",
    "total_recall_LR = 0\n",
    "total_f1score_LR = 0\n",
    "\n",
    "total_accuracy_test_LR = 0\n",
    "total_precision_test_LR = 0 \n",
    "total_recall_test_LR = 0 \n",
    "total_f1score_test_LR = 0\n",
    "\n",
    "total_accuracy_train_LR = 0\n",
    "total_precision_train_LR = 0 \n",
    "total_recall_train_LR = 0 \n",
    "total_f1score_train_LR = 0\n",
    "\n",
    "\n",
    "avg_accuracy_LR = 0\n",
    "avg_precision_LR = 0 \n",
    "avg_recall_LR = 0\n",
    "avg_f1score_LR = 0\n",
    "\n",
    "avg_accuracy_test_LR = 0\n",
    "avg_precision_test_LR = 0 \n",
    "avg_recall_test_LR = 0 \n",
    "avg_f1score_test_LR = 0\n",
    "\n",
    "avg_accuracy_train_LR = 0\n",
    "avg_precision_train_LR = 0 \n",
    "avg_recall_train_LR = 0 \n",
    "avg_f1score_train_LR = 0\n",
    "\n",
    "\n",
    "for i in range(0, kfold):\n",
    "    test_data = sc.parallelize([])\n",
    "    test_data = train_file_dict[i]\n",
    "    train_data_flag = False\n",
    "    train_data = sc.parallelize([])\n",
    "    for j in range(0, kfold):\n",
    "        if i != j:\n",
    "            if train_data_flag == False:\n",
    "                train_data = train_file_dict[j]\n",
    "                train_data_flag = True\n",
    "            else:\n",
    "                train_data = train_data.union(train_file_dict[j])\n",
    "        else:\n",
    "            continue\n",
    "    \n",
    "    # Train documents\n",
    "    model = LogisticRegressionWithLBFGS.train(train_data,iterations=150, regType='l2')\n",
    "\n",
    "    # Test Part of train data\n",
    "    # Make prediction and store accuracy on test part of train data.\n",
    "    predictionAndLabel = test_data.map(lambda p: (model.predict(p.features), p.label))\n",
    "    \n",
    "    accuracy,precision,recall,f1score = calculatePrecisionRecall(predictionAndLabel) \n",
    "    \n",
    "    accuracy_LR.append(accuracy)\n",
    "#     print(str(i) + \" : \" + str(accuracy))\n",
    "    total_accuracy_LR += accuracy\n",
    "    total_precision_LR += precision\n",
    "    total_recall_LR += recall\n",
    "    total_f1score_LR += f1score\n",
    "    \n",
    "    # Test Docs prediction\n",
    "    # Make prediction and test accuracy.\n",
    "    predictionAndLabel = test_docs.map(lambda p: (model.predict(p.features), p.label))\n",
    "    \n",
    "    accuracy,precision,recall,f1score = calculatePrecisionRecall(predictionAndLabel) \n",
    "    \n",
    "    accuracy_test_LR.append(accuracy)\n",
    "#     print(str(i) + \" : \" + str(accuracy))\n",
    "    total_accuracy_test_LR += accuracy\n",
    "    total_precision_test_LR += precision\n",
    "    total_recall_test_LR += recall\n",
    "    total_f1score_test_LR += f1score\n",
    "\n",
    "    # Train Part of train data\n",
    "    # Make prediction and test accuracy.\n",
    "    predictionAndLabel = train_data.map(lambda p: (model.predict(p.features), p.label))\n",
    "    \n",
    "    accuracy,precision,recall,f1score = calculatePrecisionRecall(predictionAndLabel) \n",
    "    \n",
    "    accuracy_train_LR.append(accuracy)\n",
    "#     print(str(i) + \" : \" + str(accuracy))\n",
    "    total_accuracy_train_LR += accuracy\n",
    "    total_precision_train_LR += precision\n",
    "    total_recall_train_LR += recall\n",
    "    total_f1score_train_LR += f1score\n",
    "\n",
    "\n",
    "avg_accuracy_LR = float(total_accuracy_LR/kfold)\n",
    "avg_precision_LR = float(total_precision_LR/kfold)\n",
    "avg_recall_LR = float(total_recall_LR/kfold)\n",
    "avg_f1score_LR = float(total_f1score_LR/kfold)\n",
    "\n",
    "avg_accuracy_test_LR = float(total_accuracy_test_LR/kfold)\n",
    "avg_precision_test_LR = float(total_precision_test_LR/kfold)\n",
    "avg_recall_test_LR = float(total_recall_test_LR/kfold)\n",
    "avg_f1score_test_LR = float(total_f1score_test_LR/kfold)\n",
    "\n",
    "avg_accuracy_train_LR = float(total_accuracy_train_LR/kfold)\n",
    "avg_precision_train_LR = float(total_precision_train_LR/kfold)\n",
    "avg_recall_train_LR = float(total_recall_train_LR/kfold)\n",
    "avg_f1score_train_LR = float(total_f1score_train_LR/kfold)\n",
    "\n",
    "print(\"K-fold Train-Test Values:\")\n",
    "print(\"Avg k-fold accuracy :\" + str(avg_accuracy_LR))\n",
    "print(\"Avg k-fold precision :\" + str(avg_precision_LR))\n",
    "print(\"Avg k-fold recall :\" + str(avg_recall_LR))\n",
    "print(\"Avg k-fold F1score :\" + str(avg_f1score_LR))\n",
    "\n",
    "print(\"K-fold Train, Test-doc Test Values:\")\n",
    "print(\"Avg test accuracy :\" + str(avg_accuracy_test_LR))\n",
    "print(\"Avg test precision :\" + str(avg_precision_test_LR))\n",
    "print(\"Avg test recall :\" + str(avg_recall_test_LR))\n",
    "print(\"Avg test F1score :\" + str(avg_f1score_test_LR))\n",
    "\n",
    "print(\"K-fold Train, Test-doc Test Values:\")\n",
    "print(\"Avg Train accuracy :\" + str(avg_accuracy_train_LR))\n",
    "print(\"Avg Train precision :\" + str(avg_precision_train_LR))\n",
    "print(\"Avg Train recall :\" + str(avg_recall_train_LR))\n",
    "print(\"Avg Train F1score :\" + str(avg_f1score_train_LR))"
   ]
  },
  {
   "cell_type": "markdown",
   "metadata": {},
   "source": [
    "## Print graph of accuracy "
   ]
  },
  {
   "cell_type": "code",
   "execution_count": 57,
   "metadata": {
    "collapsed": false
   },
   "outputs": [
    {
     "data": {
      "image/png": "[encoded data removed]",
      "text/plain": [
       "<matplotlib.figure.Figure at 0xa1a1a06c>"
      ]
     },
     "metadata": {},
     "output_type": "display_data"
    }
   ],
   "source": [
    "%matplotlib inline\n",
    "\n",
    "kfold_index = [x for x in range(0, kfold)]\n",
    "\n",
    "kfold_plot_LR, = plt.plot(kfold_index, accuracy_LR, label=\"LR K-fold\")\n",
    "test_plot_LR, = plt.plot(kfold_index, accuracy_test_LR, label=\"LR Test\")\n",
    "train_plot_LR, = plt.plot(kfold_index, accuracy_train_LR, label=\"LR Train\")\n",
    "\n",
    "kfold_plot_NB, = plt.plot(kfold_index, accuracy_NB, label=\"NB K-fold\")\n",
    "test_plot_NB, = plt.plot(kfold_index, accuracy_test_NB, label=\"NB Test\")\n",
    "train_plot_NB, = plt.plot(kfold_index, accuracy_train_NB, label=\"NB Train\")\n",
    "\n",
    "\n",
    "plt.legend([kfold_plot_NB, test_plot_NB, train_plot_NB, kfold_plot_LR, test_plot_LR, train_plot_LR], ['NB K-Fold', 'NB Test', 'NB Train', 'LR K-Fold', 'LR Test', 'LR Train'])\n",
    "\n",
    "plt.ylabel('Accuracy')\n",
    "plt.xlabel('Iteration')\n",
    "plt.title('Accuracy Plot on 10 itterations of Naive Bayes and Logistic Regression Classifier')\n",
    "\n",
    "\n",
    "plt.grid(True)\n",
    "plt.show()\n"
   ]
  },
  {
   "cell_type": "markdown",
   "metadata": {},
   "source": [
    "###### Run Logistic regression for n times and plot ROC curve"
   ]
  },
  {
   "cell_type": "code",
   "execution_count": 52,
   "metadata": {
    "collapsed": false
   },
   "outputs": [],
   "source": [
    "# Train documents\n",
    "modelLR = LogisticRegressionWithLBFGS.train(train_docs,iterations=150, regType='l2')"
   ]
  },
  {
   "cell_type": "code",
   "execution_count": 53,
   "metadata": {
    "collapsed": true
   },
   "outputs": [],
   "source": [
    "roc_x = []\n",
    "roc_y = []\n",
    "\n",
    "for i in range(0, 100,2):\n",
    "    \n",
    "    modelLR.setThreshold(i/100)\n",
    "    \n",
    "    predictionAndLabelROCLR = test_docs.map(lambda p: (modelLR.predict(p.features), p.label))\n",
    "    \n",
    "    (x, y) = calculateTrueAndFalsePositiveRate(predictionAndLabelROCLR)\n",
    "    roc_x.append(x)\n",
    "    roc_y.append(y)"
   ]
  },
  {
   "cell_type": "markdown",
   "metadata": {},
   "source": [
    "Plot ROC curve"
   ]
  },
  {
   "cell_type": "code",
   "execution_count": 54,
   "metadata": {
    "collapsed": false
   },
   "outputs": [
    {
     "data": {
      "image/png": "[encoded data removed]",
      "text/plain": [
       "<matplotlib.figure.Figure at 0xa4284b4c>"
      ]
     },
     "metadata": {},
     "output_type": "display_data"
    }
   ],
   "source": [
    "# This is the ROC curve\n",
    "plt.plot(roc_x,roc_y)\n",
    "plt.xlabel('False Positive Rate')\n",
    "plt.ylabel('True Positive Rate')\n",
    "plt.title('ROC curve for Logistic Regression')\n",
    "plt.show() "
   ]
  },
  {
   "cell_type": "code",
   "execution_count": 69,
   "metadata": {
    "collapsed": false
   },
   "outputs": [],
   "source": [
    "# Instantiate metrics object\n",
    "metrics = MulticlassMetrics(predictionAndLabelOnTestLR)"
   ]
  },
  {
   "cell_type": "code",
   "execution_count": 71,
   "metadata": {
    "collapsed": false
   },
   "outputs": [],
   "source": [
    "# Overall statistics\n",
    "confusion_matrix_LR = metrics.confusionMatrix()\n",
    "\n",
    "print(confusion_matrix_LR)"
   ]
  },
  {
   "cell_type": "code",
   "execution_count": 60,
   "metadata": {
    "collapsed": true
   },
   "outputs": [],
   "source": [
    "# Statistics by class\n",
    "labels = train_docs.map(lambda lp: lp.label).distinct().collect()\n",
    "for label in sorted(labels):\n",
    "    print(\"Class %s precision = %s\" % (label, metrics.precision(label)))\n",
    "    print(\"Class %s recall = %s\" % (label, metrics.recall(label)))\n",
    "    print(\"Class %s F1 Measure = %s\" % (label, metrics.fMeasure(label, beta=1.0)))"
   ]
  },
  {
   "cell_type": "code",
   "execution_count": 56,
   "metadata": {
    "collapsed": true
   },
   "outputs": [],
   "source": [
    "# Weighted stats\n",
    "print(\"Weighted recall = %s\" % metrics.weightedRecall)\n",
    "print(\"Weighted precision = %s\" % metrics.weightedPrecision)\n",
    "print(\"Weighted F(1) Score = %s\" % metrics.weightedFMeasure())\n",
    "print(\"Weighted F(0.5) Score = %s\" % metrics.weightedFMeasure(beta=0.5))\n",
    "print(\"Weighted false positive rate = %s\" % metrics.weightedFalsePositiveRate)"
   ]
  },
  {
   "cell_type": "code",
   "execution_count": null,
   "metadata": {
    "collapsed": false
   },
   "outputs": [],
   "source": []
  },
  {
   "cell_type": "code",
   "execution_count": null,
   "metadata": {
    "collapsed": false
   },
   "outputs": [],
   "source": []
  },
  {
   "cell_type": "code",
   "execution_count": null,
   "metadata": {
    "collapsed": false
   },
   "outputs": [],
   "source": []
  },
  {
   "cell_type": "code",
   "execution_count": null,
   "metadata": {
    "collapsed": false
   },
   "outputs": [],
   "source": []
  },
  {
   "cell_type": "code",
   "execution_count": null,
   "metadata": {
    "collapsed": false
   },
   "outputs": [],
   "source": []
  },
  {
   "cell_type": "code",
   "execution_count": null,
   "metadata": {
    "collapsed": false
   },
   "outputs": [],
   "source": []
  },
  {
   "cell_type": "code",
   "execution_count": null,
   "metadata": {
    "collapsed": true
   },
   "outputs": [],
   "source": []
  }
 ],
 "metadata": {
  "kernelspec": {
   "display_name": "Python 3",
   "language": "python",
   "name": "python3"
  },
  "language_info": {
   "codemirror_mode": {
    "name": "ipython",
    "version": 3
   },
   "file_extension": ".py",
   "mimetype": "text/x-python",
   "name": "python",
   "nbconvert_exporter": "python",
   "pygments_lexer": "ipython3",
   "version": "3.5.1"
  }
 },
 "nbformat": 4,
 "nbformat_minor": 0
}
